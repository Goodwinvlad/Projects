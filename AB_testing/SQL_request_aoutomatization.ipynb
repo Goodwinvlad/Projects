{
 "cells": [
  {
   "cell_type": "markdown",
   "id": "10694d71",
   "metadata": {},
   "source": [
    "### Задание 2. SQL\n",
    "**2.1 Очень усердные ученики.**\n",
    "\n",
    "- 2.1.1 Условие\n",
    "\n",
    "Образовательные курсы состоят из различных уроков, каждый из которых состоит из нескольких маленьких заданий. Каждое такое маленькое задание называется \"горошиной\".\n",
    "Назовём очень усердным учеником того пользователя, который хотя бы раз за текущий месяц правильно решил 20 горошин за час.\n",
    "\n",
    "- 2.1.2 Задача\n",
    "\n",
    "Необходимо написать оптимальный запрос, который даст информацию о количестве очень усердных студентов за март 2020 года.\n",
    "NB! Под усердным студентом мы понимаем студента, который правильно решил 20 задач за текущий месяц.\n",
    "\n"
   ]
  },
  {
   "cell_type": "markdown",
   "id": "662adf0c",
   "metadata": {},
   "source": [
    "Название атрибута|\tТип атрибута |\tСмысловое значение\n",
    "-------|---------|-----------------------------\n",
    "st_id  |int      |ID ученика \n",
    "       |         |\n",
    "timest |timestamp|Время решения карточки\n",
    "       |         |\n",
    "correct|bool     |Правильно ли решена горошина? \n",
    "       |         |\n",
    "subject|text     |Дисциплина, в которой находится горошина"
   ]
  },
  {
   "cell_type": "code",
   "execution_count": 1,
   "id": "6e9ad5d0",
   "metadata": {},
   "outputs": [],
   "source": [
    "import pandas as pd\n",
    "import numpy as np\n",
    "import random"
   ]
  },
  {
   "cell_type": "markdown",
   "id": "f56ee2bb",
   "metadata": {},
   "source": [
    "**Генерация данных для теста запроса**"
   ]
  },
  {
   "cell_type": "markdown",
   "id": "74fdab8c",
   "metadata": {},
   "source": [
    "peas"
   ]
  },
  {
   "cell_type": "code",
   "execution_count": 142,
   "id": "d4978b3d",
   "metadata": {},
   "outputs": [],
   "source": [
    "#создаем учеников\n",
    "st_id = np.random.randint(1000, 3000, 10000)"
   ]
  },
  {
   "cell_type": "code",
   "execution_count": 143,
   "id": "6dfeb427",
   "metadata": {},
   "outputs": [],
   "source": [
    "st_id = st_id.tolist()"
   ]
  },
  {
   "cell_type": "code",
   "execution_count": 144,
   "id": "6f2ab8c3",
   "metadata": {},
   "outputs": [],
   "source": [
    "#создаем время решения\n",
    "timest = pd.date_range(start=\"2020-01-01\", end=\"2020-12-31\").strftime(\"%Y-%m-%d\").tolist()\n",
    "timest = timest * 50\n",
    "random.shuffle(timest)\n",
    "timest = timest[0:10000]"
   ]
  },
  {
   "cell_type": "code",
   "execution_count": 145,
   "id": "715241de",
   "metadata": {},
   "outputs": [],
   "source": [
    "#создаем правильность решения\n",
    "correct = np.random.randint(0, 2, 10000)"
   ]
  },
  {
   "cell_type": "code",
   "execution_count": 146,
   "id": "f7add2d1",
   "metadata": {},
   "outputs": [],
   "source": [
    "#Создаем дисциплину\n",
    "subject = ['math'] * 2500\n",
    "subject.extend(['physics'] * 2500)\n",
    "subject.extend(['literature'] * 3000)\n",
    "subject.extend(['english'] * 2000)\n",
    "random.shuffle(subject)"
   ]
  },
  {
   "cell_type": "code",
   "execution_count": 148,
   "id": "dd05c5e4",
   "metadata": {},
   "outputs": [],
   "source": [
    "#Формируем датафрейм\n",
    "df_prepare = {'st_id': pd.Series(st_id),\n",
    "              'timest': timest,\n",
    "              'correct': pd.Series(correct),\n",
    "              'subject': pd.Series(subject)}\n",
    " \n",
    "df = pd.DataFrame(df_prepare)"
   ]
  },
  {
   "cell_type": "code",
   "execution_count": 149,
   "id": "e6faae78",
   "metadata": {},
   "outputs": [],
   "source": [
    "#Формируем csv. файл\n",
    "df.to_csv('peas.csv', sep=',')"
   ]
  },
  {
   "cell_type": "markdown",
   "id": "a76fbe95",
   "metadata": {},
   "source": [
    "**Оптимальный запрос**"
   ]
  },
  {
   "cell_type": "raw",
   "id": "03b9789f",
   "metadata": {},
   "source": [
    "SELECT COUNT(DISTINCT st_id)\n",
    "\n",
    "FROM\n",
    "\n",
    "    (\n",
    "\n",
    "    SELECT st_id, trunc(timest,'mm'), sum(correct)\n",
    "\n",
    "    FROM vladislav_ivanov.peas\n",
    "\n",
    "    WHERE trunc(timest,'mm') = '01.03.2021'\n",
    "\n",
    "    GROUP BY st_id, trunc(timest,'mm')\n",
    "\n",
    "    HAVING sum(correct) > 19\n",
    "\n",
    "    ) a\n",
    "\n",
    "\n",
    "\n"
   ]
  },
  {
   "cell_type": "markdown",
   "id": "5475ba7e",
   "metadata": {},
   "source": [
    "**2.2 Оптимизация воронки**\n",
    "\n",
    "- 2.2.1 Условие\n",
    "\n",
    "Образовательная платформа предлагает пройти студентам курсы по модели trial: студент может решить бесплатно лишь 30 горошин в день. Для неограниченного количества заданий в определенной дисциплине студенту необходимо приобрести полный доступ. Команда провела эксперимент, где был протестирован новый экран оплаты.\n",
    "\n",
    "- 2.2.2 Задача\n",
    "\n",
    "Необходимо в одном запросе выгрузить следующую информацию о группах пользователей:\n",
    "\n",
    "ARPU \n",
    "ARPAU \n",
    "CR в покупку \n",
    "СR активного пользователя в покупку \n",
    "CR пользователя из активности по математике (subject = ’math’) в покупку курса по математике"
   ]
  },
  {
   "cell_type": "markdown",
   "id": "4e667c9a",
   "metadata": {},
   "source": [
    "**Генерация данных для теста запроса**"
   ]
  },
  {
   "cell_type": "markdown",
   "id": "e4452cbb",
   "metadata": {},
   "source": [
    "studs"
   ]
  },
  {
   "cell_type": "code",
   "execution_count": 178,
   "id": "9497cd05",
   "metadata": {},
   "outputs": [],
   "source": [
    "#Создаем не активнхы студентов\n",
    "st_id_add = np.random.randint(4000, 10000, 10000).tolist()\n",
    "st_id.extend(st_id_add)"
   ]
  },
  {
   "cell_type": "code",
   "execution_count": 180,
   "id": "92ecd12f",
   "metadata": {},
   "outputs": [],
   "source": [
    "#Создаем тестовые группы\n",
    "test_grp = ['A'] * 12000\n",
    "test_grp.extend(['B']*8000)\n",
    "random.shuffle(test_grp)"
   ]
  },
  {
   "cell_type": "code",
   "execution_count": 181,
   "id": "f693a83c",
   "metadata": {},
   "outputs": [],
   "source": [
    "#Формируем датафрейм\n",
    "df_pre = {'st_id': pd.Series(st_id), \n",
    "          'test_grp': pd.Series(test_grp) }\n",
    "\n",
    "studs = pd.DataFrame(df_pre)"
   ]
  },
  {
   "cell_type": "code",
   "execution_count": 182,
   "id": "e5c09492",
   "metadata": {},
   "outputs": [],
   "source": [
    "#Формируем csv. файл\n",
    "studs.to_csv('studs.csv', sep=',')"
   ]
  },
  {
   "cell_type": "markdown",
   "id": "fcb0b60b",
   "metadata": {},
   "source": [
    "checks"
   ]
  },
  {
   "cell_type": "code",
   "execution_count": 164,
   "id": "02851574",
   "metadata": {},
   "outputs": [],
   "source": [
    "#создаем учеников с покупкой\n",
    "st_id_checks = st_id[1000:5000] "
   ]
  },
  {
   "cell_type": "code",
   "execution_count": 168,
   "id": "1498ab0a",
   "metadata": {},
   "outputs": [],
   "source": [
    "#создаем дисциплины, на которые приобрели полный доступ\n",
    "subject_check = ['math'] * 1000\n",
    "subject_check.extend(['physics'] * 1000)\n",
    "subject_check.extend(['literature'] * 1000)\n",
    "subject_check.extend(['english'] * 1000)\n",
    "random.shuffle(subject_check)"
   ]
  },
  {
   "cell_type": "code",
   "execution_count": 170,
   "id": "4ca98ddd",
   "metadata": {},
   "outputs": [],
   "source": [
    "#создаем время покупки\n",
    "timest_check = pd.date_range(start=\"2020-01-01\", end=\"2020-12-31\").strftime(\"%Y-%m-%d\").tolist()\n",
    "timest_check = timest_check * 50\n",
    "random.shuffle(timest_check)\n",
    "timest_check = timest[0:4000]"
   ]
  },
  {
   "cell_type": "code",
   "execution_count": 173,
   "id": "d527a11c",
   "metadata": {},
   "outputs": [],
   "source": [
    "#Формируем датафрейм\n",
    "df_prepa = {'st_id': pd.Series(st_id_checks),\n",
    "            'sale_time': timest_check,\n",
    "            'subject': pd.Series(subject_check)}\n",
    " \n",
    "checks = pd.DataFrame(df_prepa)"
   ]
  },
  {
   "cell_type": "code",
   "execution_count": 175,
   "id": "da26448b",
   "metadata": {},
   "outputs": [],
   "source": [
    "#дполняем ценами, по которой приобрели данный курс\n",
    "\n",
    "checks['money'] = checks.subject.apply(lambda x: 100 if x == 'math'\n",
    "                                      else 200 if x == 'physics'\n",
    "                                      else 300 if x == 'literature'\n",
    "                                      else 400)\n"
   ]
  },
  {
   "cell_type": "code",
   "execution_count": 177,
   "id": "6b5b9338",
   "metadata": {},
   "outputs": [],
   "source": [
    "#Формируем csv. файл\n",
    "checks.to_csv('checks.csv', sep=',')"
   ]
  },
  {
   "cell_type": "markdown",
   "id": "c416e8f1",
   "metadata": {},
   "source": [
    "**Один запрос**"
   ]
  },
  {
   "cell_type": "raw",
   "id": "d7cc9f7b",
   "metadata": {},
   "source": [
    "  select test_grp,\n",
    "\n",
    "    sum(c.money) / count(s.st_id) as ARPU,\n",
    "    sum(c.money) / (select count(distinct st_id) from peas p) as ARPPU,\n",
    "    count(distinct c.st_id) / count(s.st_id) as CR_in_purch,\n",
    "    count(distinct c.st_id) / (select count(distinct st_id) from peas p) as CR_act_in_purch,\n",
    "    sum(case when c.subject = 'math' then 1 else 0 end) / (select count(distinct st_id) from peas p \n",
    "                                                                                        where subject = 'math') as CR_math\n",
    "\n",
    "\n",
    "from studs s\n",
    "left join checks c on s.st_id = c.st_id\n",
    "group by test_grp\n",
    "\n",
    "\n",
    "\n",
    "\n",
    "\n",
    "\n",
    "\n"
   ]
  },
  {
   "cell_type": "raw",
   "id": "77b3388e",
   "metadata": {},
   "source": [
    "        #  TEST_GRP\tARPU\tARPPU\tCR_IN_PURCH\tCR_ACT_IN_PURCH\tCR_MATH\n",
    "        1\tB\t169\t1177\t0,11\t0,77\t1,67\n",
    "        2\tA\t174\t1826\t0,08\t0,84\t2,47\n"
   ]
  },
  {
   "cell_type": "code",
   "execution_count": null,
   "id": "a877b56b",
   "metadata": {},
   "outputs": [],
   "source": []
  }
 ],
 "metadata": {
  "kernelspec": {
   "display_name": "Python 3 (ipykernel)",
   "language": "python",
   "name": "python3"
  },
  "language_info": {
   "codemirror_mode": {
    "name": "ipython",
    "version": 3
   },
   "file_extension": ".py",
   "mimetype": "text/x-python",
   "name": "python",
   "nbconvert_exporter": "python",
   "pygments_lexer": "ipython3",
   "version": "3.9.7"
  }
 },
 "nbformat": 4,
 "nbformat_minor": 5
}
