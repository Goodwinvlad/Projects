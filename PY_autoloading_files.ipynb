{
 "cells": [
  {
   "cell_type": "markdown",
   "id": "6f67e92a",
   "metadata": {},
   "source": [
    "### Задание 3. Python"
   ]
  },
  {
   "cell_type": "markdown",
   "id": "0ed4d94b",
   "metadata": {},
   "source": [
    "**3.1 Задача**\n",
    "\n",
    "Реализуйте функцию, которая будет автоматически подгружать информацию из дополнительного файла groups_add.csv (заголовки могут отличаться) и на основании дополнительных параметров пересчитывать метрики.\n",
    "Реализуйте функцию, которая будет строить графики по получаемым метрикам.\n",
    "  "
   ]
  },
  {
   "cell_type": "code",
   "execution_count": 93,
   "id": "97c7e69d",
   "metadata": {},
   "outputs": [],
   "source": [
    "import pandas as pd\n",
    "import requests\n",
    "from urllib.parse import urlencode\n",
    "\n",
    "import seaborn as sns\n",
    "import matplotlib.pyplot as plt\n",
    "\n"
   ]
  },
  {
   "cell_type": "code",
   "execution_count": 165,
   "id": "271cf644",
   "metadata": {},
   "outputs": [],
   "source": [
    "path = 'https://disk.yandex.ru/d/3aARY-P9pfaksg'"
   ]
  },
  {
   "cell_type": "code",
   "execution_count": 166,
   "id": "6770ead6",
   "metadata": {},
   "outputs": [],
   "source": [
    "def def_groups_adding(path):\n",
    "\n",
    "\n",
    "    base_url = 'https://cloud-api.yandex.net/v1/disk/public/resources/download?'\n",
    "    url = base_url + urlencode(dict(public_key = path))\n",
    "    request_url = requests.get(url)                   # запрос на извлечение данных\n",
    "    download_url = request_url.json()['href']         # json файл\n",
    "    download_response = requests.get(download_url)    \n",
    "    with open('groups_add.csv', 'wb') as f:\n",
    "        f.write(download_response.content)            #открытие на запись, в двоичном режиме\n",
    "\n",
    "\n",
    "    #читаем таблицы\n",
    "\n",
    "    groups = pd.read_csv('groups.csv', sep=';')\n",
    "    groups_add = pd.read_csv('groups_add.csv', sep=',')\n",
    "    active_studs = pd.read_csv('active_studs.csv', sep=',')\n",
    "    checks = pd.read_csv('checks.csv', sep=';')\n",
    "\n",
    "\n",
    "    # Проводим проверку и соединение таблиц groups и groups_add\n",
    "\n",
    "    if groups.shape[1] == groups_add.shape[1]:\n",
    "        if (all(groups_add.iloc[:, [1]].dtypes == object) and all(groups_add.iloc[:, [0]].dtypes == 'int64')):\n",
    "                users = groups.append(groups_add)\n",
    "                print('Добавление прошло успешно')\n",
    "        else:\n",
    "            print('Ошибка добавения')\n",
    "    else:\n",
    "        print('Ошибка добавения')        \n",
    "\n",
    "\n",
    "    # для отображения активности по действию, добавим колонку с единицей\n",
    "    active_studs['active'] = 1\n",
    "    checks['payment'] = 1\n",
    "\n",
    "    # Проводим мердж по всем таблицам\n",
    "\n",
    "    df_full = users.merge(active_studs, how='left',left_on='id', right_on='student_id').fillna(0)\n",
    "    df_full = df_full.merge(checks, how='left',left_on='id', right_on='student_id').fillna(0)\n",
    "    df_full = df_full[['id', 'grp', 'active', 'rev',  'payment']] #оставляем нужные колонки\n",
    "\n",
    "\n",
    "    # Фильруем пользователей, которые зашли на платформу в дни проведения эксперимента\n",
    "    active_users = df_full.query('active == 1')    \n",
    "\n",
    "    # ARPPU - Средний доход на платящего пользователя\n",
    "\n",
    "    ARPPU_A = round(active_users.query('grp == \"A\" and payment == 1').rev.sum()\\\n",
    "                 / active_users.query('grp == \"A\"  and payment == 1').id.count(), 2)\n",
    "\n",
    "    ARPPU_B = round(active_users.query('grp == \"B\" and payment == 1').rev.sum()\\\n",
    "                 / active_users.query('grp == \"B\"  and payment == 1').id.count(), 2)\n",
    "    # ARPU - Cредний доход с привлечённого пользователя.\n",
    "\n",
    "    ARPU_A = round(active_users.query('grp == \"A\" and payment == 1').rev.sum()\\\n",
    "                 / active_users.query('grp == \"A\"').id.count(), 2)\n",
    "\n",
    "    ARPU_B = round(active_users.query('grp == \"B\" and payment == 1').rev.sum()\\\n",
    "                 / active_users.query('grp == \"B\"').id.count(), 2)\n",
    "\n",
    "\n",
    "\n",
    "\n",
    "    # CR в покупку A\n",
    "    CR_A = round(100 * active_users.query('grp == \"A\" and payment == 1').count().id / active_users.query('grp == \"A\"').count().id, 2)\n",
    "\n",
    "    # CR в покупку B\n",
    "    CR_B = round(100 * active_users.query('grp == \"B\" and payment == 1').count().id / active_users.query('grp == \"B\"').count().id, 2)\n",
    "\n",
    "    #СR активного пользователя в покупку A\n",
    "    CR_active_A = round(100 * active_users.query('grp == \"A\"').count().id / df_full.query('grp == \"A\"').count().id, 2)\n",
    "\n",
    "    #СR активного пользователя в покупку B\n",
    "    CR_active_B = round(100 * active_users.query('grp == \"B\"').count().id / df_full.query('grp == \"B\"').count().id, 2)\n",
    "\n",
    "\n",
    "    full_metrics = pd.DataFrame({'grp' : ['A', 'B'], 'ARPU' : [ARPU_A, ARPU_B], 'ARPPU' : [ARPPU_A, ARPPU_B], 'CR' : [CR_A, CR_B], 'CR_active' : [CR_active_A, CR_active_B]})\n",
    "\n",
    "\n",
    "    return full_metrics\n",
    "\n",
    "\n",
    "        "
   ]
  },
  {
   "cell_type": "code",
   "execution_count": 167,
   "id": "9ef2b390",
   "metadata": {},
   "outputs": [
    {
     "name": "stdout",
     "output_type": "stream",
     "text": [
      "Добавление прошло успешно\n"
     ]
    },
    {
     "data": {
      "text/html": [
       "<div>\n",
       "<style scoped>\n",
       "    .dataframe tbody tr th:only-of-type {\n",
       "        vertical-align: middle;\n",
       "    }\n",
       "\n",
       "    .dataframe tbody tr th {\n",
       "        vertical-align: top;\n",
       "    }\n",
       "\n",
       "    .dataframe thead th {\n",
       "        text-align: right;\n",
       "    }\n",
       "</style>\n",
       "<table border=\"1\" class=\"dataframe\">\n",
       "  <thead>\n",
       "    <tr style=\"text-align: right;\">\n",
       "      <th></th>\n",
       "      <th>grp</th>\n",
       "      <th>ARPU</th>\n",
       "      <th>ARPPU</th>\n",
       "      <th>CR</th>\n",
       "      <th>CR_active</th>\n",
       "    </tr>\n",
       "  </thead>\n",
       "  <tbody>\n",
       "    <tr>\n",
       "      <th>0</th>\n",
       "      <td>A</td>\n",
       "      <td>47.35</td>\n",
       "      <td>933.59</td>\n",
       "      <td>5.07</td>\n",
       "      <td>10.47</td>\n",
       "    </tr>\n",
       "    <tr>\n",
       "      <th>1</th>\n",
       "      <td>B</td>\n",
       "      <td>58.06</td>\n",
       "      <td>1257.88</td>\n",
       "      <td>4.62</td>\n",
       "      <td>11.36</td>\n",
       "    </tr>\n",
       "  </tbody>\n",
       "</table>\n",
       "</div>"
      ],
      "text/plain": [
       "  grp   ARPU    ARPPU    CR  CR_active\n",
       "0   A  47.35   933.59  5.07      10.47\n",
       "1   B  58.06  1257.88  4.62      11.36"
      ]
     },
     "execution_count": 167,
     "metadata": {},
     "output_type": "execute_result"
    }
   ],
   "source": [
    "def_groups_adding(path)"
   ]
  },
  {
   "cell_type": "code",
   "execution_count": 213,
   "id": "bb7a321d",
   "metadata": {},
   "outputs": [
    {
     "name": "stdout",
     "output_type": "stream",
     "text": [
      "Добавление прошло успешно\n"
     ]
    }
   ],
   "source": [
    "df_plot = def_groups_adding(path)"
   ]
  },
  {
   "cell_type": "code",
   "execution_count": null,
   "id": "dccf05e1",
   "metadata": {},
   "outputs": [],
   "source": []
  },
  {
   "cell_type": "code",
   "execution_count": 215,
   "id": "14f26402",
   "metadata": {},
   "outputs": [],
   "source": [
    "def bar_metrics(df_plot):\n",
    "\n",
    "    fig, ax = plt.subplots(nrows=2, ncols=2, figsize=(18, 10))\n",
    "    sns.barplot(x=df_plot.grp, y=df_plot.ARPU, ax=ax[0][0], data=df_plot, palette=\"mako\", alpha=0.5).set(xlabel='GROUPS', ylabel='ARPU', title='ARPU')\n",
    "    sns.barplot(x=df_plot.grp, y=df_plot.ARPPU, ax=ax[0][1], data=df_plot, palette=\"mako\", alpha=0.5).set(xlabel='GROUPS', ylabel='ARPPU', title='ARPPU' )\n",
    "    sns.barplot(x=df_plot.grp, y=df_plot.CR, ax=ax[1][0], data=df_plot, palette=\"mako\").set(xlabel='GROUPS', ylabel='CR', title='CR' )\n",
    "    sns.barplot(x=df_plot.grp, y=df_plot.CR_active, ax=ax[1][1], data=df_plot, palette=\"mako\").set(xlabel='GROUPS', ylabel='CR_active', title='CR_active' )\n",
    "    sns.despine()  # убрать часть рамки графика\n"
   ]
  },
  {
   "cell_type": "code",
   "execution_count": 216,
   "id": "e0d600ef",
   "metadata": {},
   "outputs": [
    {
     "data": {
      "image/png": "[encoded data removed]",
      "text/plain": [
       "<Figure size 1296x720 with 4 Axes>"
      ]
     },
     "metadata": {
      "needs_background": "light"
     },
     "output_type": "display_data"
    }
   ],
   "source": [
    "bar_metrics(df_plot)"
   ]
  },
  {
   "cell_type": "code",
   "execution_count": null,
   "id": "5fbac057",
   "metadata": {},
   "outputs": [],
   "source": []
  }
 ],
 "metadata": {
  "kernelspec": {
   "display_name": "Python 3 (ipykernel)",
   "language": "python",
   "name": "python3"
  },
  "language_info": {
   "codemirror_mode": {
    "name": "ipython",
    "version": 3
   },
   "file_extension": ".py",
   "mimetype": "text/x-python",
   "name": "python",
   "nbconvert_exporter": "python",
   "pygments_lexer": "ipython3",
   "version": "3.9.7"
  }
 },
 "nbformat": 4,
 "nbformat_minor": 5
}
