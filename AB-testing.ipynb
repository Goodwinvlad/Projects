{
 "cells": [
  {
   "cell_type": "markdown",
   "id": "d785cee3",
   "metadata": {},
   "source": [
    "### Задание 1. A/B–тестирование\n",
    "**1.1 Условие**\n",
    "\n",
    "    Одной из основных задач аналитика в нашей команде является корректное проведение экспериментов. Для этого мы применяем метод A/B–тестирования. В ходе тестирования одной гипотезы целевой группе была предложена новая механика оплаты услуг на сайте, у контрольной группы оставалась базовая механика. \n",
    "В качестве задания Вам необходимо проанализировать итоги эксперимента и сделать вывод, стоит ли запускать новую механику оплаты на всех пользователей."
   ]
  },
  {
   "cell_type": "markdown",
   "id": "0fbd69e8",
   "metadata": {},
   "source": [
    "**1.3 Вопросы**\n",
    "\n",
    "Предлагаем Вам ответить на следующие вопросы:\n",
    "\n",
    "- На какие метрики Вы смотрите в ходе анализа и почему?\n",
    "- Имеются ли различия в показателях и с чем они могут быть связаны?\n",
    "- Являются ли эти различия статистически значимыми?\n",
    "- Стоит ли запускать новую механику на всех пользователей?\n",
    "\n",
    "Данный список вопросов не является обязательным, и Вы можете при своём ответе опираться на собственный план."
   ]
  },
  {
   "cell_type": "code",
   "execution_count": 123,
   "id": "8f40f7c9",
   "metadata": {},
   "outputs": [],
   "source": [
    "import pandas as pd\n",
    "import numpy as np\n",
    "import requests\n",
    "from urllib.parse import urlencode\n",
    "import json\n",
    "\n",
    "\n",
    "\n",
    "from scipy.stats import norm\n",
    "from scipy.stats import chi2_contingency\n",
    "from tqdm.auto import tqdm\n",
    "from scipy.stats import shapiro\n",
    "\n",
    "\n",
    "\n",
    "import seaborn as sns\n",
    "import matplotlib.pyplot as plt\n",
    "\n",
    "sns.set(\n",
    "    font_scale=1.2,\n",
    "    style=\"darkgrid\",\n",
    "    rc={'figure.figsize': (12, 5)})\n",
    "\n",
    "plt.style.use('ggplot')"
   ]
  },
  {
   "cell_type": "markdown",
   "id": "63692f27",
   "metadata": {},
   "source": [
    "#### Получение данных"
   ]
  },
  {
   "cell_type": "markdown",
   "id": "51a92a46",
   "metadata": {},
   "source": [
    "Считываем .csv файлы с Яндекс Диска"
   ]
  },
  {
   "cell_type": "code",
   "execution_count": 6,
   "id": "756056da",
   "metadata": {},
   "outputs": [],
   "source": [
    "base_url = 'https://cloud-api.yandex.net/v1/disk/public/resources/download?'\n",
    "public_key = ['https://disk.yandex.ru/d/58Us0DWOzuWAjg', 'https://disk.yandex.ru/d/3aARY-P9pfaksg',\n",
    "              'https://disk.yandex.ru/d/prbgU-rZpiXVYg', 'https://disk.yandex.ru/d/84hTmELphW2sqQ']\n",
    "table_name = ['groups.csv', 'groups_add.csv', 'active_studs.csv', 'checks.csv']\n"
   ]
  },
  {
   "cell_type": "code",
   "execution_count": 19,
   "id": "2bebc913",
   "metadata": {},
   "outputs": [],
   "source": [
    "for j, k in zip(public_key, table_name):\n",
    "    url = base_url + urlencode(dict(public_key=j))    # формирование url\n",
    "    request_url = requests.get(url)                   # запрос на извлечение данных\n",
    "    download_url = request_url.json()['href']         # парсинг данных\n",
    "    download_response = requests.get(download_url)    #запрос готовых данных\n",
    "    with open(k, 'wb') as f:\n",
    "        f.write(download_response.content)            #открытие на запись, в двоичном режиме"
   ]
  },
  {
   "cell_type": "markdown",
   "id": "ff9ef725",
   "metadata": {},
   "source": [
    "#### Природа датасетов"
   ]
  },
  {
   "cell_type": "markdown",
   "id": "72585b87",
   "metadata": {},
   "source": [
    "Информация о принадлежности пользователя к контрольной или экспериментальной группе (А – контроль, B – целевая группа) "
   ]
  },
  {
   "cell_type": "code",
   "execution_count": 20,
   "id": "9baff778",
   "metadata": {},
   "outputs": [],
   "source": [
    "groups = pd.read_csv('groups.csv', sep=';')"
   ]
  },
  {
   "cell_type": "markdown",
   "id": "a58d5da3",
   "metadata": {},
   "source": [
    "Пользователи, которые прислали спустя 2 дня после передачи данных"
   ]
  },
  {
   "cell_type": "code",
   "execution_count": 26,
   "id": "f008f584",
   "metadata": {},
   "outputs": [],
   "source": [
    "groups_add = pd.read_csv('groups_add.csv', sep=',')"
   ]
  },
  {
   "cell_type": "markdown",
   "id": "412da3c5",
   "metadata": {},
   "source": [
    "Информация о пользователях, которые зашли на платформу в дни проведения эксперимента"
   ]
  },
  {
   "cell_type": "code",
   "execution_count": 29,
   "id": "52a543ec",
   "metadata": {},
   "outputs": [],
   "source": [
    "active_studs = pd.read_csv('active_studs.csv', sep=',')"
   ]
  },
  {
   "cell_type": "markdown",
   "id": "8650b666",
   "metadata": {},
   "source": [
    "Информация об оплатах пользователей в дни проведения эксперимента"
   ]
  },
  {
   "cell_type": "code",
   "execution_count": 33,
   "id": "33884736",
   "metadata": {},
   "outputs": [],
   "source": [
    "checks = pd.read_csv('checks.csv', sep=';')"
   ]
  },
  {
   "cell_type": "markdown",
   "id": "55f9258a",
   "metadata": {},
   "source": [
    "\n",
    "\n",
    "**Проверяем дупликаты и NULL**"
   ]
  },
  {
   "cell_type": "code",
   "execution_count": 36,
   "id": "56bbc316",
   "metadata": {},
   "outputs": [],
   "source": [
    " df = [groups, groups_add, active_studs, checks]"
   ]
  },
  {
   "cell_type": "code",
   "execution_count": 43,
   "id": "57758fa3",
   "metadata": {},
   "outputs": [
    {
     "name": "stdout",
     "output_type": "stream",
     "text": [
      "0\n",
      "\n",
      "0\n",
      "\n",
      "0\n",
      "\n",
      "0\n",
      "\n"
     ]
    }
   ],
   "source": [
    "for i in df:\n",
    "    print(i.duplicated().sum())\n",
    "    print('')"
   ]
  },
  {
   "cell_type": "code",
   "execution_count": 44,
   "id": "ca3b08cb",
   "metadata": {},
   "outputs": [
    {
     "name": "stdout",
     "output_type": "stream",
     "text": [
      "id     0\n",
      "grp    0\n",
      "dtype: int64\n",
      "\n",
      "id     0\n",
      "grp    0\n",
      "dtype: int64\n",
      "\n",
      "student_id    0\n",
      "dtype: int64\n",
      "\n",
      "student_id    0\n",
      "rev           0\n",
      "dtype: int64\n",
      "\n"
     ]
    }
   ],
   "source": [
    "for i in df:\n",
    "    print(i.isna().sum())\n",
    "    print('')"
   ]
  },
  {
   "cell_type": "markdown",
   "id": "14065531",
   "metadata": {},
   "source": [
    "Данные без дупликатов и пропусков"
   ]
  },
  {
   "cell_type": "markdown",
   "id": "8321dc89",
   "metadata": {},
   "source": [
    "**Проводим соединение таблиц**"
   ]
  },
  {
   "cell_type": "code",
   "execution_count": 60,
   "id": "70f76ea2",
   "metadata": {},
   "outputs": [],
   "source": [
    "users = pd.concat((groups, groups_add)) #все пользователи, с присланными через два дня"
   ]
  },
  {
   "cell_type": "code",
   "execution_count": 67,
   "id": "0848b01c",
   "metadata": {
    "scrolled": true
   },
   "outputs": [
    {
     "data": {
      "text/plain": [
       "0"
      ]
     },
     "execution_count": 67,
     "metadata": {},
     "output_type": "execute_result"
    }
   ],
   "source": [
    "users.duplicated().sum()  #дупликатов не обнаружено"
   ]
  },
  {
   "cell_type": "markdown",
   "id": "e34f9868",
   "metadata": {},
   "source": [
    "для отображения активности по действию, добавим колонку с единицей"
   ]
  },
  {
   "cell_type": "code",
   "execution_count": 80,
   "id": "b9fea5e7",
   "metadata": {},
   "outputs": [],
   "source": [
    "active_studs['active'] = 1\n",
    "checks['payment'] = 1"
   ]
  },
  {
   "cell_type": "markdown",
   "id": "190ad6d9",
   "metadata": {},
   "source": [
    "Проводим мердж по всем таблицам"
   ]
  },
  {
   "cell_type": "code",
   "execution_count": 78,
   "id": "2678fe10",
   "metadata": {},
   "outputs": [],
   "source": [
    "df_full = users.merge(active_studs, how='left',left_on='id', right_on='student_id').fillna(0)"
   ]
  },
  {
   "cell_type": "code",
   "execution_count": 81,
   "id": "cbbc936d",
   "metadata": {},
   "outputs": [],
   "source": [
    "df_full = df_full.merge(checks, how='left',left_on='id', right_on='student_id').fillna(0)"
   ]
  },
  {
   "cell_type": "code",
   "execution_count": 87,
   "id": "728ad409",
   "metadata": {},
   "outputs": [],
   "source": [
    "df_full = df_full[['id', 'grp', 'active', 'rev',  'payment']] #убираем лишние колонки"
   ]
  },
  {
   "cell_type": "code",
   "execution_count": 88,
   "id": "c615b59c",
   "metadata": {},
   "outputs": [
    {
     "data": {
      "text/html": [
       "<div>\n",
       "<style scoped>\n",
       "    .dataframe tbody tr th:only-of-type {\n",
       "        vertical-align: middle;\n",
       "    }\n",
       "\n",
       "    .dataframe tbody tr th {\n",
       "        vertical-align: top;\n",
       "    }\n",
       "\n",
       "    .dataframe thead th {\n",
       "        text-align: right;\n",
       "    }\n",
       "</style>\n",
       "<table border=\"1\" class=\"dataframe\">\n",
       "  <thead>\n",
       "    <tr style=\"text-align: right;\">\n",
       "      <th></th>\n",
       "      <th>id</th>\n",
       "      <th>grp</th>\n",
       "      <th>active</th>\n",
       "      <th>rev</th>\n",
       "      <th>payment</th>\n",
       "    </tr>\n",
       "  </thead>\n",
       "  <tbody>\n",
       "    <tr>\n",
       "      <th>0</th>\n",
       "      <td>1489</td>\n",
       "      <td>B</td>\n",
       "      <td>0.0</td>\n",
       "      <td>0.0</td>\n",
       "      <td>0.0</td>\n",
       "    </tr>\n",
       "    <tr>\n",
       "      <th>1</th>\n",
       "      <td>1627</td>\n",
       "      <td>A</td>\n",
       "      <td>1.0</td>\n",
       "      <td>990.0</td>\n",
       "      <td>1.0</td>\n",
       "    </tr>\n",
       "    <tr>\n",
       "      <th>2</th>\n",
       "      <td>1768</td>\n",
       "      <td>B</td>\n",
       "      <td>0.0</td>\n",
       "      <td>0.0</td>\n",
       "      <td>0.0</td>\n",
       "    </tr>\n",
       "    <tr>\n",
       "      <th>3</th>\n",
       "      <td>1783</td>\n",
       "      <td>B</td>\n",
       "      <td>0.0</td>\n",
       "      <td>0.0</td>\n",
       "      <td>0.0</td>\n",
       "    </tr>\n",
       "    <tr>\n",
       "      <th>4</th>\n",
       "      <td>1794</td>\n",
       "      <td>A</td>\n",
       "      <td>0.0</td>\n",
       "      <td>0.0</td>\n",
       "      <td>0.0</td>\n",
       "    </tr>\n",
       "  </tbody>\n",
       "</table>\n",
       "</div>"
      ],
      "text/plain": [
       "     id grp  active    rev  payment\n",
       "0  1489   B     0.0    0.0      0.0\n",
       "1  1627   A     1.0  990.0      1.0\n",
       "2  1768   B     0.0    0.0      0.0\n",
       "3  1783   B     0.0    0.0      0.0\n",
       "4  1794   A     0.0    0.0      0.0"
      ]
     },
     "execution_count": 88,
     "metadata": {},
     "output_type": "execute_result"
    }
   ],
   "source": [
    "df_full.head()"
   ]
  },
  {
   "cell_type": "markdown",
   "id": "560766f9",
   "metadata": {},
   "source": [
    "#### Метрики A/B–тестирования"
   ]
  },
  {
   "cell_type": "markdown",
   "id": "be8f52dd",
   "metadata": {},
   "source": [
    "Основные метрики для анализа: \n",
    "- Конверсия (conversion rate, CR) — отношение числа пользователей, которые выполнили какое-либо целевое действие к общему числу пользователей.\n",
    "- Средний доход на платящего пользователя (ARPPU). Состоит из того, насколько часто пользователь покупает, и насколько большой средний чек покупки."
   ]
  },
  {
   "cell_type": "markdown",
   "id": "7384c32d",
   "metadata": {},
   "source": [
    "Фильруем пользователей, которые зашли на платформу в дни проведения эксперимента"
   ]
  },
  {
   "cell_type": "code",
   "execution_count": 97,
   "id": "0f6ff895",
   "metadata": {},
   "outputs": [],
   "source": [
    "active_users = df_full.query('active == 1')"
   ]
  },
  {
   "cell_type": "code",
   "execution_count": 99,
   "id": "4215ebf3",
   "metadata": {},
   "outputs": [
    {
     "data": {
      "text/html": [
       "<div>\n",
       "<style scoped>\n",
       "    .dataframe tbody tr th:only-of-type {\n",
       "        vertical-align: middle;\n",
       "    }\n",
       "\n",
       "    .dataframe tbody tr th {\n",
       "        vertical-align: top;\n",
       "    }\n",
       "\n",
       "    .dataframe thead th {\n",
       "        text-align: right;\n",
       "    }\n",
       "</style>\n",
       "<table border=\"1\" class=\"dataframe\">\n",
       "  <thead>\n",
       "    <tr style=\"text-align: right;\">\n",
       "      <th></th>\n",
       "      <th>id</th>\n",
       "      <th>grp</th>\n",
       "      <th>active</th>\n",
       "      <th>rev</th>\n",
       "      <th>payment</th>\n",
       "    </tr>\n",
       "  </thead>\n",
       "  <tbody>\n",
       "    <tr>\n",
       "      <th>1</th>\n",
       "      <td>1627</td>\n",
       "      <td>A</td>\n",
       "      <td>1.0</td>\n",
       "      <td>990.0</td>\n",
       "      <td>1.0</td>\n",
       "    </tr>\n",
       "    <tr>\n",
       "      <th>10</th>\n",
       "      <td>2085</td>\n",
       "      <td>B</td>\n",
       "      <td>1.0</td>\n",
       "      <td>0.0</td>\n",
       "      <td>0.0</td>\n",
       "    </tr>\n",
       "    <tr>\n",
       "      <th>12</th>\n",
       "      <td>2215</td>\n",
       "      <td>B</td>\n",
       "      <td>1.0</td>\n",
       "      <td>0.0</td>\n",
       "      <td>0.0</td>\n",
       "    </tr>\n",
       "    <tr>\n",
       "      <th>43</th>\n",
       "      <td>3391</td>\n",
       "      <td>A</td>\n",
       "      <td>1.0</td>\n",
       "      <td>0.0</td>\n",
       "      <td>0.0</td>\n",
       "    </tr>\n",
       "    <tr>\n",
       "      <th>45</th>\n",
       "      <td>3401</td>\n",
       "      <td>B</td>\n",
       "      <td>1.0</td>\n",
       "      <td>0.0</td>\n",
       "      <td>0.0</td>\n",
       "    </tr>\n",
       "  </tbody>\n",
       "</table>\n",
       "</div>"
      ],
      "text/plain": [
       "      id grp  active    rev  payment\n",
       "1   1627   A     1.0  990.0      1.0\n",
       "10  2085   B     1.0    0.0      0.0\n",
       "12  2215   B     1.0    0.0      0.0\n",
       "43  3391   A     1.0    0.0      0.0\n",
       "45  3401   B     1.0    0.0      0.0"
      ]
     },
     "execution_count": 99,
     "metadata": {},
     "output_type": "execute_result"
    }
   ],
   "source": [
    "active_users.head()"
   ]
  },
  {
   "cell_type": "markdown",
   "id": "ed1eace7",
   "metadata": {},
   "source": [
    "**Расчитаем conversion rate**"
   ]
  },
  {
   "cell_type": "code",
   "execution_count": 106,
   "id": "7d7809ab",
   "metadata": {},
   "outputs": [
    {
     "data": {
      "text/plain": [
       "5.07"
      ]
     },
     "execution_count": 106,
     "metadata": {},
     "output_type": "execute_result"
    }
   ],
   "source": [
    "#Конверсия в покупку для группы А\n",
    "round(100* active_users.query('payment == 1 & grp == \"A\"').id.count()/active_users.query('grp == \"A\"').id.count(), 2)"
   ]
  },
  {
   "cell_type": "code",
   "execution_count": 105,
   "id": "d0d6cd7b",
   "metadata": {},
   "outputs": [
    {
     "data": {
      "text/plain": [
       "4.62"
      ]
     },
     "execution_count": 105,
     "metadata": {},
     "output_type": "execute_result"
    }
   ],
   "source": [
    "#Конверсия в покупку для группы В\n",
    "round(100* active_users.query('payment == 1 & grp == \"B\"').id.count()/active_users.query('grp == \"B\"').id.count(), 2)"
   ]
  },
  {
   "cell_type": "markdown",
   "id": "2187a0c3",
   "metadata": {},
   "source": [
    "Построим график активных пользователей не совершивших и совершивших покупку с разделением по группам"
   ]
  },
  {
   "cell_type": "code",
   "execution_count": 98,
   "id": "931096c3",
   "metadata": {},
   "outputs": [
    {
     "data": {
      "image/png": "[encoded data removed]",
      "text/plain": [
       "<Figure size 864x360 with 1 Axes>"
      ]
     },
     "metadata": {},
     "output_type": "display_data"
    }
   ],
   "source": [
    "sns.countplot(x=\"payment\", hue=\"grp\", data=active_users, palette='mako');"
   ]
  },
  {
   "cell_type": "markdown",
   "id": "5e572738",
   "metadata": {},
   "source": [
    "Конверсии в покупку различаются, но!\n",
    "Делать вывод по олному расчету и графику – не очень хорошо, поэтому проверим нашу гипотезу с помощью статистического теста.\n",
    "\n",
    "Есть две категориальные переменные → используем хи-квадрат\n",
    "\n",
    "- $H_0$: взаимосвязи между переменными нет \n",
    "- $H_1$: взаимосвязь есть"
   ]
  },
  {
   "cell_type": "code",
   "execution_count": 111,
   "id": "875560bd",
   "metadata": {},
   "outputs": [
    {
     "data": {
      "text/html": [
       "<div>\n",
       "<style scoped>\n",
       "    .dataframe tbody tr th:only-of-type {\n",
       "        vertical-align: middle;\n",
       "    }\n",
       "\n",
       "    .dataframe tbody tr th {\n",
       "        vertical-align: top;\n",
       "    }\n",
       "\n",
       "    .dataframe thead th {\n",
       "        text-align: right;\n",
       "    }\n",
       "</style>\n",
       "<table border=\"1\" class=\"dataframe\">\n",
       "  <thead>\n",
       "    <tr style=\"text-align: right;\">\n",
       "      <th>payment</th>\n",
       "      <th>0.0</th>\n",
       "      <th>1.0</th>\n",
       "    </tr>\n",
       "    <tr>\n",
       "      <th>grp</th>\n",
       "      <th></th>\n",
       "      <th></th>\n",
       "    </tr>\n",
       "  </thead>\n",
       "  <tbody>\n",
       "    <tr>\n",
       "      <th>A</th>\n",
       "      <td>1460</td>\n",
       "      <td>78</td>\n",
       "    </tr>\n",
       "    <tr>\n",
       "      <th>B</th>\n",
       "      <td>6489</td>\n",
       "      <td>314</td>\n",
       "    </tr>\n",
       "  </tbody>\n",
       "</table>\n",
       "</div>"
      ],
      "text/plain": [
       "payment   0.0  1.0\n",
       "grp               \n",
       "A        1460   78\n",
       "B        6489  314"
      ]
     },
     "execution_count": 111,
     "metadata": {},
     "output_type": "execute_result"
    }
   ],
   "source": [
    "df_cross = pd.crosstab(active_users.grp, active_users.payment)\n",
    "df_cross"
   ]
  },
  {
   "cell_type": "code",
   "execution_count": 112,
   "id": "a1fb4777",
   "metadata": {},
   "outputs": [],
   "source": [
    "stat, p, dof, expected = chi2_contingency(df_cross)"
   ]
  },
  {
   "cell_type": "code",
   "execution_count": 117,
   "id": "9234d493",
   "metadata": {},
   "outputs": [
    {
     "name": "stdout",
     "output_type": "stream",
     "text": [
      "Не отклоняем H0. Уровень p-value > 0.05. Результаты не являются статистички значимыми\n"
     ]
    }
   ],
   "source": [
    "prob = 0.95\n",
    "alpha = 1.0 - prob\n",
    "if p <= alpha:\n",
    "    print('Отклоняем H0. Уровень p-value < 0.05. Результаты являются статистички значимыми')\n",
    "else:\n",
    "    print('Не отклоняем H0. Уровень p-value > 0.05. Результаты не являются статистички значимыми')"
   ]
  },
  {
   "cell_type": "markdown",
   "id": "13de1629",
   "metadata": {},
   "source": [
    "**Расчитаем ARPPU**"
   ]
  },
  {
   "cell_type": "code",
   "execution_count": 122,
   "id": "664b922d",
   "metadata": {},
   "outputs": [
    {
     "data": {
      "text/html": [
       "<div>\n",
       "<style scoped>\n",
       "    .dataframe tbody tr th:only-of-type {\n",
       "        vertical-align: middle;\n",
       "    }\n",
       "\n",
       "    .dataframe tbody tr th {\n",
       "        vertical-align: top;\n",
       "    }\n",
       "\n",
       "    .dataframe thead tr th {\n",
       "        text-align: left;\n",
       "    }\n",
       "\n",
       "    .dataframe thead tr:last-of-type th {\n",
       "        text-align: right;\n",
       "    }\n",
       "</style>\n",
       "<table border=\"1\" class=\"dataframe\">\n",
       "  <thead>\n",
       "    <tr>\n",
       "      <th></th>\n",
       "      <th colspan=\"2\" halign=\"left\">rev</th>\n",
       "    </tr>\n",
       "    <tr>\n",
       "      <th></th>\n",
       "      <th>mean</th>\n",
       "      <th>median</th>\n",
       "    </tr>\n",
       "    <tr>\n",
       "      <th>grp</th>\n",
       "      <th></th>\n",
       "      <th></th>\n",
       "    </tr>\n",
       "  </thead>\n",
       "  <tbody>\n",
       "    <tr>\n",
       "      <th>A</th>\n",
       "      <td>933.59</td>\n",
       "      <td>585.0</td>\n",
       "    </tr>\n",
       "    <tr>\n",
       "      <th>B</th>\n",
       "      <td>1257.88</td>\n",
       "      <td>1140.0</td>\n",
       "    </tr>\n",
       "  </tbody>\n",
       "</table>\n",
       "</div>"
      ],
      "text/plain": [
       "         rev        \n",
       "        mean  median\n",
       "grp                 \n",
       "A     933.59   585.0\n",
       "B    1257.88  1140.0"
      ]
     },
     "execution_count": 122,
     "metadata": {},
     "output_type": "execute_result"
    }
   ],
   "source": [
    "#добавим расчет медианног значения для оценки чувствительности к выбросам\n",
    "df_ARPPU = active_users.query('payment == 1').groupby('grp').agg({'rev' : ['mean', 'median']}).round(2)\n",
    "df_ARPPU"
   ]
  },
  {
   "cell_type": "markdown",
   "id": "325b1f02",
   "metadata": {},
   "source": [
    "Таблица показывает различия контрольной и тестовой группы, но требуется проверить статистически\n",
    "\n",
    "Проверим распределение признака на нормальность с помощью Теста Шапиро-Уилка"
   ]
  },
  {
   "cell_type": "code",
   "execution_count": 129,
   "id": "f7c455eb",
   "metadata": {},
   "outputs": [
    {
     "name": "stdout",
     "output_type": "stream",
     "text": [
      "Distribution grp A is not normal\n",
      "\n",
      "Distribution grp B is not normal\n",
      "\n"
     ]
    }
   ],
   "source": [
    "alpha = 0.05\n",
    "\n",
    "st = shapiro(active_users.query('grp ==  \"A\"').rev)\n",
    "print('Distribution grp A is {}normal\\n'.format({True: 'not ', False: ''}[st[1] < alpha]));\n",
    "\n",
    "st = shapiro(active_users.query('grp ==  \"B\"').rev)\n",
    "print('Distribution grp B is {}normal\\n'.format({True: 'not ', False: ''}[st[1] < alpha]));"
   ]
  },
  {
   "cell_type": "markdown",
   "id": "b1854a65",
   "metadata": {},
   "source": [
    "Дополнительная проверка по графику: Распределение покупок"
   ]
  },
  {
   "cell_type": "code",
   "execution_count": 132,
   "id": "3affc0fc",
   "metadata": {},
   "outputs": [
    {
     "data": {
      "image/png": "[encoded data removed]",
      "text/plain": [
       "<Figure size 864x360 with 1 Axes>"
      ]
     },
     "metadata": {},
     "output_type": "display_data"
    }
   ],
   "source": [
    "sns.histplot(x=active_users.query('payment == 1').rev, hue=active_users.query('payment == 1').grp, bins=20, palette='mako')\n",
    "plt.xlabel('Доход')\n",
    "plt.ylabel('Количество bins')\n",
    "plt.title(\"Гистограмма дохода по группам\");"
   ]
  },
  {
   "cell_type": "markdown",
   "id": "68b9e29b",
   "metadata": {},
   "source": [
    "На основе данных теста Шапиро-Уилка, подтвержденные графиком Распределения дохода групп, распределения не являются нормальными. T-test в данном случае не применим, а Манн-Уитни проверяет гипотезу о равенстве распределений. Как решение - применим bootstrap"
   ]
  },
  {
   "cell_type": "markdown",
   "id": "06bfde47",
   "metadata": {},
   "source": [
    "**Bootstrap метод**"
   ]
  },
  {
   "cell_type": "markdown",
   "id": "98570ddb",
   "metadata": {},
   "source": [
    " \n",
    "$H_0$: средние выборок равны $H_1$: средние выборок не равны"
   ]
  },
  {
   "cell_type": "code",
   "execution_count": 134,
   "id": "381f1a50",
   "metadata": {},
   "outputs": [],
   "source": [
    "# Объявим функцию, которая позволит проверять гипотезы с помощью бутстрапа\n",
    "\n",
    "def get_bootstrap(\n",
    "    data_column_1, # числовые значения первой выборки\n",
    "    data_column_2, # числовые значения второй выборки\n",
    "    boot_it = 1000, # количество бутстрэп-подвыборок\n",
    "    statistic = np.mean, # интересующая нас статистика\n",
    "    bootstrap_conf_level = 0.95 # уровень значимости\n",
    "):\n",
    "    boot_len = max([len(data_column_1), len(data_column_2)])\n",
    "    boot_data = []\n",
    "    for i in tqdm(range(boot_it)): # извлекаем подвыборки\n",
    "        samples_1 = data_column_1.sample(\n",
    "            boot_len, \n",
    "            replace = True # параметр возвращения\n",
    "        ).values\n",
    "        \n",
    "        samples_2 = data_column_2.sample(\n",
    "            boot_len, # чтобы сохранить дисперсию, берем такой же размер выборки\n",
    "            replace = True\n",
    "        ).values\n",
    "        \n",
    "        boot_data.append(statistic(samples_1-samples_2)) \n",
    "    pd_boot_data = pd.DataFrame(boot_data)\n",
    "        \n",
    "    left_quant = (1 - bootstrap_conf_level)/2\n",
    "    right_quant = 1 - (1 - bootstrap_conf_level) / 2\n",
    "    quants = pd_boot_data.quantile([left_quant, right_quant])\n",
    "        \n",
    "    p_1 = norm.cdf(\n",
    "        x = 0, \n",
    "        loc = np.mean(boot_data), \n",
    "        scale = np.std(boot_data)\n",
    "    )\n",
    "    p_2 = norm.cdf(\n",
    "        x = 0, \n",
    "        loc = -np.mean(boot_data), \n",
    "        scale = np.std(boot_data)\n",
    "    )\n",
    "    p_value = min(p_1, p_2) * 2\n",
    "        \n",
    "    # Визуализация\n",
    "    _, _, bars = plt.hist(pd_boot_data[0], bins = 50)\n",
    "    for bar in bars:\n",
    "        if abs(bar.get_x()) <= quants.iloc[0][0] or abs(bar.get_x()) >= quants.iloc[1][0]:\n",
    "            bar.set_facecolor('red')\n",
    "        else: \n",
    "            bar.set_facecolor('grey')\n",
    "            bar.set_edgecolor('black')\n",
    "    \n",
    "    plt.style.use('ggplot')\n",
    "    plt.vlines(quants,ymin=0,ymax=50,linestyle='--')\n",
    "    plt.xlabel('boot_data')\n",
    "    plt.ylabel('frequency')\n",
    "    plt.title(\"Histogram of boot_data\")\n",
    "    plt.show()\n",
    "       \n",
    "    return {\"boot_data\": boot_data, \n",
    "            \"quants\": quants, \n",
    "            \"p_value\": p_value}\n",
    "\n",
    "\n",
    "\n",
    "\n",
    "\n"
   ]
  },
  {
   "cell_type": "markdown",
   "id": "9358ecc1",
   "metadata": {},
   "source": [
    "**Bootstrap ARPPU**"
   ]
  },
  {
   "cell_type": "code",
   "execution_count": 145,
   "id": "64761b68",
   "metadata": {},
   "outputs": [
    {
     "data": {
      "application/vnd.jupyter.widget-view+json": {
       "model_id": "174c666d75404de28a8f506183ef7d5e",
       "version_major": 2,
       "version_minor": 0
      },
      "text/plain": [
       "  0%|          | 0/1000 [00:00<?, ?it/s]"
      ]
     },
     "metadata": {},
     "output_type": "display_data"
    },
    {
     "data": {
      "image/png": "[encoded data removed]",
      "text/plain": [
       "<Figure size 864x360 with 1 Axes>"
      ]
     },
     "metadata": {},
     "output_type": "display_data"
    }
   ],
   "source": [
    "bootstrap_mean = get_bootstrap(active_users.query(\"payment == 1 and grp == 'B'\").rev, \n",
    "                                 active_users.query(\"payment == 1 and grp == 'A'\").rev)"
   ]
  },
  {
   "cell_type": "code",
   "execution_count": 146,
   "id": "31729035",
   "metadata": {},
   "outputs": [
    {
     "data": {
      "text/plain": [
       "7.953538788605067e-07"
      ]
     },
     "execution_count": 146,
     "metadata": {},
     "output_type": "execute_result"
    }
   ],
   "source": [
    "bootstrap_mean[\"p_value\"]"
   ]
  },
  {
   "cell_type": "code",
   "execution_count": 147,
   "id": "605d22a1",
   "metadata": {},
   "outputs": [
    {
     "data": {
      "text/html": [
       "<div>\n",
       "<style scoped>\n",
       "    .dataframe tbody tr th:only-of-type {\n",
       "        vertical-align: middle;\n",
       "    }\n",
       "\n",
       "    .dataframe tbody tr th {\n",
       "        vertical-align: top;\n",
       "    }\n",
       "\n",
       "    .dataframe thead th {\n",
       "        text-align: right;\n",
       "    }\n",
       "</style>\n",
       "<table border=\"1\" class=\"dataframe\">\n",
       "  <thead>\n",
       "    <tr style=\"text-align: right;\">\n",
       "      <th></th>\n",
       "      <th>0</th>\n",
       "    </tr>\n",
       "  </thead>\n",
       "  <tbody>\n",
       "    <tr>\n",
       "      <th>0.025</th>\n",
       "      <td>196.939340</td>\n",
       "    </tr>\n",
       "    <tr>\n",
       "      <th>0.975</th>\n",
       "      <td>453.681461</td>\n",
       "    </tr>\n",
       "  </tbody>\n",
       "</table>\n",
       "</div>"
      ],
      "text/plain": [
       "                0\n",
       "0.025  196.939340\n",
       "0.975  453.681461"
      ]
     },
     "execution_count": 147,
     "metadata": {},
     "output_type": "execute_result"
    }
   ],
   "source": [
    "bootstrap_mean[\"quants\"] # доверительный интервал"
   ]
  },
  {
   "cell_type": "code",
   "execution_count": 142,
   "id": "0d77e980",
   "metadata": {},
   "outputs": [
    {
     "name": "stdout",
     "output_type": "stream",
     "text": [
      "Отклоняем H0. Уровень p-value < 0.05. Результаты являются статистички значимыми\n"
     ]
    }
   ],
   "source": [
    "prob = 0.95\n",
    "alpha = 1.0 - prob\n",
    "if bootstrap_mean[\"p_value\"] <= alpha:\n",
    "    print('Отклоняем H0. Уровень p-value < 0.05. Результаты являются статистички значимыми')\n",
    "else:\n",
    "    print('Не отклоняем H0. Уровень p-value > 0.05. Результаты не являются статистички значимыми')"
   ]
  },
  {
   "cell_type": "markdown",
   "id": "57fffe59",
   "metadata": {},
   "source": [
    "**Bootstrap MEDIAN**"
   ]
  },
  {
   "cell_type": "code",
   "execution_count": 149,
   "id": "54e5933b",
   "metadata": {},
   "outputs": [
    {
     "data": {
      "application/vnd.jupyter.widget-view+json": {
       "model_id": "4f5ba59ff5ba4cdbab3f4bead89a5b0a",
       "version_major": 2,
       "version_minor": 0
      },
      "text/plain": [
       "  0%|          | 0/1000 [00:00<?, ?it/s]"
      ]
     },
     "metadata": {},
     "output_type": "display_data"
    },
    {
     "data": {
      "image/png": "[encoded data removed]",
      "text/plain": [
       "<Figure size 864x360 with 1 Axes>"
      ]
     },
     "metadata": {},
     "output_type": "display_data"
    }
   ],
   "source": [
    "bootstrap_median = get_bootstrap(active_users.query(\"payment == 1 and grp == 'B'\").rev, \n",
    "                                 active_users.query(\"payment == 1 and grp == 'A'\").rev, statistic = np.median)"
   ]
  },
  {
   "cell_type": "code",
   "execution_count": 150,
   "id": "e500fe65",
   "metadata": {},
   "outputs": [
    {
     "data": {
      "text/plain": [
       "1.869423545505859e-05"
      ]
     },
     "execution_count": 150,
     "metadata": {},
     "output_type": "execute_result"
    }
   ],
   "source": [
    "[\"p_value\"]"
   ]
  },
  {
   "cell_type": "code",
   "execution_count": 151,
   "id": "bb222416",
   "metadata": {},
   "outputs": [
    {
     "data": {
      "text/html": [
       "<div>\n",
       "<style scoped>\n",
       "    .dataframe tbody tr th:only-of-type {\n",
       "        vertical-align: middle;\n",
       "    }\n",
       "\n",
       "    .dataframe tbody tr th {\n",
       "        vertical-align: top;\n",
       "    }\n",
       "\n",
       "    .dataframe thead th {\n",
       "        text-align: right;\n",
       "    }\n",
       "</style>\n",
       "<table border=\"1\" class=\"dataframe\">\n",
       "  <thead>\n",
       "    <tr style=\"text-align: right;\">\n",
       "      <th></th>\n",
       "      <th>0</th>\n",
       "    </tr>\n",
       "  </thead>\n",
       "  <tbody>\n",
       "    <tr>\n",
       "      <th>0.025</th>\n",
       "      <td>189.15</td>\n",
       "    </tr>\n",
       "    <tr>\n",
       "      <th>0.975</th>\n",
       "      <td>550.00</td>\n",
       "    </tr>\n",
       "  </tbody>\n",
       "</table>\n",
       "</div>"
      ],
      "text/plain": [
       "            0\n",
       "0.025  189.15\n",
       "0.975  550.00"
      ]
     },
     "execution_count": 151,
     "metadata": {},
     "output_type": "execute_result"
    }
   ],
   "source": [
    "bootstrap_median[\"quants\"] # доверительный интервал"
   ]
  },
  {
   "cell_type": "code",
   "execution_count": 152,
   "id": "2d0a8fae",
   "metadata": {},
   "outputs": [
    {
     "name": "stdout",
     "output_type": "stream",
     "text": [
      "Отклоняем H0. Уровень p-value < 0.05. Результаты являются статистички значимыми\n"
     ]
    }
   ],
   "source": [
    "prob = 0.95\n",
    "alpha = 1.0 - prob\n",
    "if bootstrap_median[\"p_value\"] <= alpha:\n",
    "    print('Отклоняем H0. Уровень p-value < 0.05. Результаты являются статистички значимыми')\n",
    "else:\n",
    "    print('Не отклоняем H0. Уровень p-value > 0.05. Результаты не являются статистички значимыми')"
   ]
  },
  {
   "cell_type": "markdown",
   "id": "38d5d5fc",
   "metadata": {},
   "source": [
    "**Итоги**"
   ]
  },
  {
   "cell_type": "markdown",
   "id": "ea2e2adc",
   "metadata": {},
   "source": [
    " - Для оценки эффективности новой механики оплаты услуг рассмотрены метрки \"Конверсия\" - позволет оценить действие покупка. Рассмотрена метрика \"ARPPU\"   - позволяет оценить средний чек покупки. Дополнительно рассмотрена метрика Медиана чека покупки, для дополнительной проверки выбросов.  \n",
    " - Чтобы оценить статистическую значимость конверсии, применялся методи Хи-квадрат, так как переменные номинативные. По результатам теста, не отклоняем H0. Уровень p-value > 0.05. Результаты не являются статистички значимыми.  Новая механика оплаты услуг на сайте не повлияла на конверсию.\n",
    " - Чтобы оценить средний чек применялся метод bootstrap. По результатам теста отклоняем H0. Уровень p-value < 0.05. Результаты являются статистички значимыми. Новая механика оплаты услуг на сайте повлияла на средний чек. Средний чек выше в группе B.\n",
    " - Чтобы оценить медианный чек применялся метод bootstrap. По результатам теста отклоняем H0. Уровень p-value < 0.05. Результаты являются статистички значимыми. Новая механика оплаты услуг на сайте повлияла на медианный чек. Медианный чек выше в группе B.\n",
    " - Так как Медианный чек выше в группе B и Средний чек выше в группе B , то можно применить новую версию для всех пользователей."
   ]
  }
 ],
 "metadata": {
  "kernelspec": {
   "display_name": "Python 3 (ipykernel)",
   "language": "python",
   "name": "python3"
  },
  "language_info": {
   "codemirror_mode": {
    "name": "ipython",
    "version": 3
   },
   "file_extension": ".py",
   "mimetype": "text/x-python",
   "name": "python",
   "nbconvert_exporter": "python",
   "pygments_lexer": "ipython3",
   "version": "3.9.7"
  }
 },
 "nbformat": 4,
 "nbformat_minor": 5
}
